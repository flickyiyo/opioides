{
 "cells": [
  {
   "cell_type": "code",
   "execution_count": 108,
   "metadata": {},
   "outputs": [],
   "source": [
    "import numpy as np\n",
    "import pandas as pd\n",
    "from sklearn.linear_model import LinearRegression\n",
    "import matplotlib.pyplot as plt"
   ]
  },
  {
   "cell_type": "code",
   "execution_count": 109,
   "metadata": {},
   "outputs": [
    {
     "data": {
      "text/html": [
       "<div>\n",
       "<style scoped>\n",
       "    .dataframe tbody tr th:only-of-type {\n",
       "        vertical-align: middle;\n",
       "    }\n",
       "\n",
       "    .dataframe tbody tr th {\n",
       "        vertical-align: top;\n",
       "    }\n",
       "\n",
       "    .dataframe thead th {\n",
       "        text-align: right;\n",
       "    }\n",
       "</style>\n",
       "<table border=\"1\" class=\"dataframe\">\n",
       "  <thead>\n",
       "    <tr style=\"text-align: right;\">\n",
       "      <th></th>\n",
       "      <th>Unnamed: 0</th>\n",
       "      <th>ID</th>\n",
       "      <th>Date</th>\n",
       "      <th>Age</th>\n",
       "      <th>Sex</th>\n",
       "      <th>Race</th>\n",
       "      <th>ResidenceCity</th>\n",
       "      <th>ResidenceCounty</th>\n",
       "      <th>ResidenceState</th>\n",
       "      <th>DeathCity</th>\n",
       "      <th>...</th>\n",
       "      <th>Methadone</th>\n",
       "      <th>Amphet</th>\n",
       "      <th>Tramad</th>\n",
       "      <th>Morphine_NotHeroin</th>\n",
       "      <th>Hydromorphone</th>\n",
       "      <th>Other</th>\n",
       "      <th>OpiateNOS</th>\n",
       "      <th>AnyOpioid</th>\n",
       "      <th>MannerofDeath</th>\n",
       "      <th>Unnamed: 38</th>\n",
       "    </tr>\n",
       "  </thead>\n",
       "  <tbody>\n",
       "    <tr>\n",
       "      <th>7</th>\n",
       "      <td>7</td>\n",
       "      <td>13-0404</td>\n",
       "      <td>2013-11-10</td>\n",
       "      <td>40.0</td>\n",
       "      <td>Female</td>\n",
       "      <td>White</td>\n",
       "      <td>HAMDEN</td>\n",
       "      <td>NEW HAVEN</td>\n",
       "      <td>NaN</td>\n",
       "      <td>NEW HAVEN</td>\n",
       "      <td>...</td>\n",
       "      <td>NaN</td>\n",
       "      <td>NaN</td>\n",
       "      <td>NaN</td>\n",
       "      <td>NaN</td>\n",
       "      <td>NaN</td>\n",
       "      <td>NaN</td>\n",
       "      <td>NaN</td>\n",
       "      <td>NaN</td>\n",
       "      <td>Accident</td>\n",
       "      <td>NaN</td>\n",
       "    </tr>\n",
       "    <tr>\n",
       "      <th>13</th>\n",
       "      <td>14</td>\n",
       "      <td>16-0028</td>\n",
       "      <td>2016-01-13</td>\n",
       "      <td>29.0</td>\n",
       "      <td>Male</td>\n",
       "      <td>Black</td>\n",
       "      <td>NEW HAVEN</td>\n",
       "      <td>NEW HAVEN</td>\n",
       "      <td>CT</td>\n",
       "      <td>NEW HAVEN</td>\n",
       "      <td>...</td>\n",
       "      <td>NaN</td>\n",
       "      <td>Y</td>\n",
       "      <td>NaN</td>\n",
       "      <td>NaN</td>\n",
       "      <td>NaN</td>\n",
       "      <td>NaN</td>\n",
       "      <td>NaN</td>\n",
       "      <td>Y</td>\n",
       "      <td>Accident</td>\n",
       "      <td>NaN</td>\n",
       "    </tr>\n",
       "    <tr>\n",
       "      <th>15</th>\n",
       "      <td>16</td>\n",
       "      <td>14-0042</td>\n",
       "      <td>2014-01-29</td>\n",
       "      <td>29.0</td>\n",
       "      <td>Female</td>\n",
       "      <td>White</td>\n",
       "      <td>CANTERBURY</td>\n",
       "      <td>NaN</td>\n",
       "      <td>NaN</td>\n",
       "      <td>HARTFORD</td>\n",
       "      <td>...</td>\n",
       "      <td>NaN</td>\n",
       "      <td>NaN</td>\n",
       "      <td>NaN</td>\n",
       "      <td>NaN</td>\n",
       "      <td>NaN</td>\n",
       "      <td>NaN</td>\n",
       "      <td>NaN</td>\n",
       "      <td>NaN</td>\n",
       "      <td>Accident</td>\n",
       "      <td>NaN</td>\n",
       "    </tr>\n",
       "    <tr>\n",
       "      <th>17</th>\n",
       "      <td>18</td>\n",
       "      <td>16-0065</td>\n",
       "      <td>2016-01-30</td>\n",
       "      <td>54.0</td>\n",
       "      <td>Male</td>\n",
       "      <td>White</td>\n",
       "      <td>MIDDLETOWN</td>\n",
       "      <td>MIDDLESEX</td>\n",
       "      <td>CT</td>\n",
       "      <td>MIDDLETOWN</td>\n",
       "      <td>...</td>\n",
       "      <td>NaN</td>\n",
       "      <td>NaN</td>\n",
       "      <td>NaN</td>\n",
       "      <td>NaN</td>\n",
       "      <td>NaN</td>\n",
       "      <td>NaN</td>\n",
       "      <td>NaN</td>\n",
       "      <td>Y</td>\n",
       "      <td>Accident</td>\n",
       "      <td>NaN</td>\n",
       "    </tr>\n",
       "    <tr>\n",
       "      <th>18</th>\n",
       "      <td>19</td>\n",
       "      <td>16-0889</td>\n",
       "      <td>2016-12-20</td>\n",
       "      <td>32.0</td>\n",
       "      <td>Male</td>\n",
       "      <td>White</td>\n",
       "      <td>WINDHAM</td>\n",
       "      <td>WINDHAM</td>\n",
       "      <td>CT</td>\n",
       "      <td>WINDHAM</td>\n",
       "      <td>...</td>\n",
       "      <td>NaN</td>\n",
       "      <td>NaN</td>\n",
       "      <td>NaN</td>\n",
       "      <td>NaN</td>\n",
       "      <td>NaN</td>\n",
       "      <td>NaN</td>\n",
       "      <td>NaN</td>\n",
       "      <td>Y</td>\n",
       "      <td>Accident</td>\n",
       "      <td>NaN</td>\n",
       "    </tr>\n",
       "    <tr>\n",
       "      <th>...</th>\n",
       "      <td>...</td>\n",
       "      <td>...</td>\n",
       "      <td>...</td>\n",
       "      <td>...</td>\n",
       "      <td>...</td>\n",
       "      <td>...</td>\n",
       "      <td>...</td>\n",
       "      <td>...</td>\n",
       "      <td>...</td>\n",
       "      <td>...</td>\n",
       "      <td>...</td>\n",
       "      <td>...</td>\n",
       "      <td>...</td>\n",
       "      <td>...</td>\n",
       "      <td>...</td>\n",
       "      <td>...</td>\n",
       "      <td>...</td>\n",
       "      <td>...</td>\n",
       "      <td>...</td>\n",
       "      <td>...</td>\n",
       "      <td>...</td>\n",
       "    </tr>\n",
       "    <tr>\n",
       "      <th>5088</th>\n",
       "      <td>5089</td>\n",
       "      <td>16-0902</td>\n",
       "      <td>2016-12-26</td>\n",
       "      <td>35.0</td>\n",
       "      <td>Male</td>\n",
       "      <td>Other</td>\n",
       "      <td>FAIRFIELD</td>\n",
       "      <td>FAIRFIELD</td>\n",
       "      <td>CT</td>\n",
       "      <td>FAIRFIELD</td>\n",
       "      <td>...</td>\n",
       "      <td>NaN</td>\n",
       "      <td>NaN</td>\n",
       "      <td>NaN</td>\n",
       "      <td>NaN</td>\n",
       "      <td>NaN</td>\n",
       "      <td>NaN</td>\n",
       "      <td>NaN</td>\n",
       "      <td>Y</td>\n",
       "      <td>Accident</td>\n",
       "      <td>NaN</td>\n",
       "    </tr>\n",
       "    <tr>\n",
       "      <th>5090</th>\n",
       "      <td>5091</td>\n",
       "      <td>14-0030</td>\n",
       "      <td>2014-01-20</td>\n",
       "      <td>23.0</td>\n",
       "      <td>Female</td>\n",
       "      <td>Hispanic, White</td>\n",
       "      <td>HARTFORD</td>\n",
       "      <td>NaN</td>\n",
       "      <td>NaN</td>\n",
       "      <td>HARTFORD</td>\n",
       "      <td>...</td>\n",
       "      <td>NaN</td>\n",
       "      <td>NaN</td>\n",
       "      <td>NaN</td>\n",
       "      <td>NaN</td>\n",
       "      <td>NaN</td>\n",
       "      <td>MORPH PCP</td>\n",
       "      <td>NaN</td>\n",
       "      <td>NaN</td>\n",
       "      <td>Accident</td>\n",
       "      <td>NaN</td>\n",
       "    </tr>\n",
       "    <tr>\n",
       "      <th>5092</th>\n",
       "      <td>5093</td>\n",
       "      <td>16-0043</td>\n",
       "      <td>2016-01-21</td>\n",
       "      <td>29.0</td>\n",
       "      <td>Male</td>\n",
       "      <td>White</td>\n",
       "      <td>ELLINGTON</td>\n",
       "      <td>TOLLAND</td>\n",
       "      <td>CT</td>\n",
       "      <td>HARTFORD</td>\n",
       "      <td>...</td>\n",
       "      <td>NaN</td>\n",
       "      <td>NaN</td>\n",
       "      <td>NaN</td>\n",
       "      <td>NaN</td>\n",
       "      <td>NaN</td>\n",
       "      <td>NaN</td>\n",
       "      <td>NaN</td>\n",
       "      <td>Y</td>\n",
       "      <td>Accident</td>\n",
       "      <td>NaN</td>\n",
       "    </tr>\n",
       "    <tr>\n",
       "      <th>5096</th>\n",
       "      <td>5097</td>\n",
       "      <td>17-0947</td>\n",
       "      <td>2017-12-02</td>\n",
       "      <td>28.0</td>\n",
       "      <td>Female</td>\n",
       "      <td>White</td>\n",
       "      <td>MIDDLETOWN</td>\n",
       "      <td>MIDDLESEX</td>\n",
       "      <td>CT</td>\n",
       "      <td>MIDDLETOWN</td>\n",
       "      <td>...</td>\n",
       "      <td>Y</td>\n",
       "      <td>NaN</td>\n",
       "      <td>NaN</td>\n",
       "      <td>NaN</td>\n",
       "      <td>NaN</td>\n",
       "      <td>NaN</td>\n",
       "      <td>NaN</td>\n",
       "      <td>NaN</td>\n",
       "      <td>Accident</td>\n",
       "      <td>NaN</td>\n",
       "    </tr>\n",
       "    <tr>\n",
       "      <th>5098</th>\n",
       "      <td>5099</td>\n",
       "      <td>15-0013</td>\n",
       "      <td>2015-01-07</td>\n",
       "      <td>45.0</td>\n",
       "      <td>Female</td>\n",
       "      <td>White</td>\n",
       "      <td>WATERBURY</td>\n",
       "      <td>NEW HAVEN</td>\n",
       "      <td>CT</td>\n",
       "      <td>WATERBURY</td>\n",
       "      <td>...</td>\n",
       "      <td>NaN</td>\n",
       "      <td>NaN</td>\n",
       "      <td>NaN</td>\n",
       "      <td>NaN</td>\n",
       "      <td>NaN</td>\n",
       "      <td>NaN</td>\n",
       "      <td>NaN</td>\n",
       "      <td>Y</td>\n",
       "      <td>Accident</td>\n",
       "      <td>NaN</td>\n",
       "    </tr>\n",
       "  </tbody>\n",
       "</table>\n",
       "<p>1310 rows × 39 columns</p>\n",
       "</div>"
      ],
      "text/plain": [
       "      Unnamed: 0       ID       Date   Age     Sex             Race  \\\n",
       "7              7  13-0404 2013-11-10  40.0  Female            White   \n",
       "13            14  16-0028 2016-01-13  29.0    Male            Black   \n",
       "15            16  14-0042 2014-01-29  29.0  Female            White   \n",
       "17            18  16-0065 2016-01-30  54.0    Male            White   \n",
       "18            19  16-0889 2016-12-20  32.0    Male            White   \n",
       "...          ...      ...        ...   ...     ...              ...   \n",
       "5088        5089  16-0902 2016-12-26  35.0    Male            Other   \n",
       "5090        5091  14-0030 2014-01-20  23.0  Female  Hispanic, White   \n",
       "5092        5093  16-0043 2016-01-21  29.0    Male            White   \n",
       "5096        5097  17-0947 2017-12-02  28.0  Female            White   \n",
       "5098        5099  15-0013 2015-01-07  45.0  Female            White   \n",
       "\n",
       "     ResidenceCity ResidenceCounty ResidenceState   DeathCity  ... Methadone  \\\n",
       "7           HAMDEN       NEW HAVEN            NaN   NEW HAVEN  ...       NaN   \n",
       "13       NEW HAVEN       NEW HAVEN             CT   NEW HAVEN  ...       NaN   \n",
       "15      CANTERBURY             NaN            NaN    HARTFORD  ...       NaN   \n",
       "17      MIDDLETOWN       MIDDLESEX             CT  MIDDLETOWN  ...       NaN   \n",
       "18         WINDHAM         WINDHAM             CT     WINDHAM  ...       NaN   \n",
       "...            ...             ...            ...         ...  ...       ...   \n",
       "5088     FAIRFIELD       FAIRFIELD             CT   FAIRFIELD  ...       NaN   \n",
       "5090      HARTFORD             NaN            NaN    HARTFORD  ...       NaN   \n",
       "5092     ELLINGTON         TOLLAND             CT    HARTFORD  ...       NaN   \n",
       "5096    MIDDLETOWN       MIDDLESEX             CT  MIDDLETOWN  ...         Y   \n",
       "5098     WATERBURY       NEW HAVEN             CT   WATERBURY  ...       NaN   \n",
       "\n",
       "     Amphet Tramad Morphine_NotHeroin Hydromorphone      Other OpiateNOS  \\\n",
       "7       NaN    NaN                NaN           NaN        NaN       NaN   \n",
       "13        Y    NaN                NaN           NaN        NaN       NaN   \n",
       "15      NaN    NaN                NaN           NaN        NaN       NaN   \n",
       "17      NaN    NaN                NaN           NaN        NaN       NaN   \n",
       "18      NaN    NaN                NaN           NaN        NaN       NaN   \n",
       "...     ...    ...                ...           ...        ...       ...   \n",
       "5088    NaN    NaN                NaN           NaN        NaN       NaN   \n",
       "5090    NaN    NaN                NaN           NaN  MORPH PCP       NaN   \n",
       "5092    NaN    NaN                NaN           NaN        NaN       NaN   \n",
       "5096    NaN    NaN                NaN           NaN        NaN       NaN   \n",
       "5098    NaN    NaN                NaN           NaN        NaN       NaN   \n",
       "\n",
       "     AnyOpioid MannerofDeath Unnamed: 38  \n",
       "7          NaN      Accident         NaN  \n",
       "13           Y      Accident         NaN  \n",
       "15         NaN      Accident         NaN  \n",
       "17           Y      Accident         NaN  \n",
       "18           Y      Accident         NaN  \n",
       "...        ...           ...         ...  \n",
       "5088         Y      Accident         NaN  \n",
       "5090       NaN      Accident         NaN  \n",
       "5092         Y      Accident         NaN  \n",
       "5096       NaN      Accident         NaN  \n",
       "5098         Y      Accident         NaN  \n",
       "\n",
       "[1310 rows x 39 columns]"
      ]
     },
     "execution_count": 109,
     "metadata": {},
     "output_type": "execute_result"
    }
   ],
   "source": [
    "dataframe = pd.read_csv(\"/home/eivazque/Documents/opioids.csv\")\n",
    "dataframe['Date'] = pd.to_datetime(dataframe['Date'])\n",
    "sorted_df = dataframe.sort_values(by=['Age'])\n",
    "dataframe[(dataframe['Date'].dt.month > 10) | (dataframe['Date'].dt.month < 2)]"
   ]
  },
  {
   "cell_type": "code",
   "execution_count": 11,
   "metadata": {},
   "outputs": [
    {
     "data": {
      "text/plain": [
       "(5104, 39)"
      ]
     },
     "execution_count": 11,
     "metadata": {},
     "output_type": "execute_result"
    }
   ],
   "source": [
    "dataframe.shape"
   ]
  },
  {
   "cell_type": "code",
   "execution_count": 110,
   "metadata": {},
   "outputs": [
    {
     "data": {
      "text/plain": [
       "<matplotlib.axes._subplots.AxesSubplot at 0x7f436487f730>"
      ]
     },
     "execution_count": 110,
     "metadata": {},
     "output_type": "execute_result"
    },
    {
     "data": {
      "image/png": "[encoded data removed]",
      "text/plain": [
       "<Figure size 432x288 with 1 Axes>"
      ]
     },
     "metadata": {
      "needs_background": "light"
     },
     "output_type": "display_data"
    }
   ],
   "source": [
    "dataframe['AnyOpioid'] = dataframe['AnyOpioid'].fillna('N')\n",
    "df = dataframe.fillna('N')\n",
    "df.groupby('Sex').size().plot(kind='bar')"
   ]
  },
  {
   "cell_type": "code",
   "execution_count": 111,
   "metadata": {},
   "outputs": [
    {
     "data": {
      "text/plain": [
       "<matplotlib.axes._subplots.AxesSubplot at 0x7f4364e02f70>"
      ]
     },
     "execution_count": 111,
     "metadata": {},
     "output_type": "execute_result"
    },
    {
     "data": {
      "image/png": "[encoded data removed]",
      "text/plain": [
       "<Figure size 432x288 with 1 Axes>"
      ]
     },
     "metadata": {
      "needs_background": "light"
     },
     "output_type": "display_data"
    }
   ],
   "source": [
    "df.groupby('Cocaine').size().plot(kind='bar')"
   ]
  },
  {
   "cell_type": "code",
   "execution_count": 112,
   "metadata": {
    "scrolled": true
   },
   "outputs": [
    {
     "data": {
      "text/plain": [
       "<matplotlib.axes._subplots.AxesSubplot at 0x7f4364775e20>"
      ]
     },
     "execution_count": 112,
     "metadata": {},
     "output_type": "execute_result"
    },
    {
     "data": {
      "image/png": "[encoded data removed]",
      "text/plain": [
       "<Figure size 432x288 with 1 Axes>"
      ]
     },
     "metadata": {
      "needs_background": "light"
     },
     "output_type": "display_data"
    }
   ],
   "source": [
    "df.groupby('Heroin').size().plot(kind='bar')"
   ]
  },
  {
   "cell_type": "code",
   "execution_count": 113,
   "metadata": {},
   "outputs": [
    {
     "data": {
      "text/plain": [
       "<matplotlib.axes._subplots.AxesSubplot at 0x7f436472f4c0>"
      ]
     },
     "execution_count": 113,
     "metadata": {},
     "output_type": "execute_result"
    },
    {
     "data": {
      "image/png": "[encoded data removed]",
      "text/plain": [
       "<Figure size 432x288 with 1 Axes>"
      ]
     },
     "metadata": {
      "needs_background": "light"
     },
     "output_type": "display_data"
    }
   ],
   "source": [
    "df.groupby('Location').size().plot(kind='bar')"
   ]
  },
  {
   "cell_type": "code",
   "execution_count": 114,
   "metadata": {},
   "outputs": [
    {
     "data": {
      "text/plain": [
       "<matplotlib.axes._subplots.AxesSubplot at 0x7f4364750e20>"
      ]
     },
     "execution_count": 114,
     "metadata": {},
     "output_type": "execute_result"
    },
    {
     "data": {
      "image/png": "[encoded data removed]",
      "text/plain": [
       "<Figure size 432x288 with 1 Axes>"
      ]
     },
     "metadata": {
      "needs_background": "light"
     },
     "output_type": "display_data"
    }
   ],
   "source": [
    "df.groupby('Age').size().plot()"
   ]
  },
  {
   "cell_type": "code",
   "execution_count": 115,
   "metadata": {},
   "outputs": [
    {
     "data": {
      "text/plain": [
       "Index(['Cocaine', 'AnyOpioid'], dtype='object')"
      ]
     },
     "execution_count": 115,
     "metadata": {},
     "output_type": "execute_result"
    }
   ],
   "source": [
    "row = df.iloc[[2]][['Date', 'Race', 'Sex', 'Cocaine', 'Fentanyl', 'FentanylAnalogue', 'Oxycodone',\n",
    "       'Oxymorphone', 'Ethanol', 'Hydrocodone', 'Benzodiazepine', 'Methadone',\n",
    "       'Amphet', 'Tramad', 'Morphine_NotHeroin', 'Hydromorphone', 'Other',\n",
    "       'OpiateNOS', 'AnyOpioid', 'COD']]\n",
    "row.columns[\n",
    "    (row == 'Y').any(axis=0)\n",
    "]"
   ]
  },
  {
   "cell_type": "code",
   "execution_count": 116,
   "metadata": {},
   "outputs": [],
   "source": [
    "df['NumSubs'] = df.apply(lambda x: len(df.columns[x=='Y']), axis=1)"
   ]
  },
  {
   "cell_type": "code",
   "execution_count": 117,
   "metadata": {},
   "outputs": [],
   "source": [
    "x = df['NumSubs'].values\n",
    "y = df['Age'].values"
   ]
  },
  {
   "cell_type": "code",
   "execution_count": 118,
   "metadata": {},
   "outputs": [],
   "source": [
    "x_vec = x.reshape(len(x),1)\n",
    "y_vec = y.reshape(len(y))"
   ]
  },
  {
   "cell_type": "code",
   "execution_count": 119,
   "metadata": {},
   "outputs": [
    {
     "name": "stdout",
     "output_type": "stream",
     "text": [
      "(5104, 1)\n",
      "(5104,)\n",
      "<class 'numpy.ndarray'>\n"
     ]
    },
    {
     "data": {
      "text/plain": [
       "numpy.ndarray"
      ]
     },
     "execution_count": 119,
     "metadata": {},
     "output_type": "execute_result"
    }
   ],
   "source": [
    "y_vec = np.array([0 if asd == 'N' else asd for asd in y])\n",
    "print(x_vec.shape)\n",
    "print(y_vec.shape)\n",
    "print(type(x_vec))\n",
    "type(y_vec)"
   ]
  },
  {
   "cell_type": "code",
   "execution_count": 120,
   "metadata": {},
   "outputs": [
    {
     "data": {
      "text/plain": [
       "0.0010491131954981636"
      ]
     },
     "execution_count": 120,
     "metadata": {},
     "output_type": "execute_result"
    }
   ],
   "source": [
    "regr = LinearRegression()\n",
    "regr.fit(x_vec, y_vec)\n",
    "regr.score(x_vec, y_vec)"
   ]
  },
  {
   "cell_type": "code",
   "execution_count": 121,
   "metadata": {},
   "outputs": [
    {
     "data": {
      "image/png": "[encoded data removed]",
      "text/plain": [
       "<Figure size 432x288 with 1 Axes>"
      ]
     },
     "metadata": {
      "needs_background": "light"
     },
     "output_type": "display_data"
    }
   ],
   "source": [
    "plt.scatter(x_vec, y_vec,  color='black')\n",
    "plt.plot(x_vec, regr.predict(x_vec), color='blue', linewidth=3)\n",
    "\n",
    "plt.show()"
   ]
  },
  {
   "cell_type": "code",
   "execution_count": 188,
   "metadata": {},
   "outputs": [
    {
     "name": "stdout",
     "output_type": "stream",
     "text": [
      "4404\n",
      "700\n"
     ]
    }
   ],
   "source": [
    "train_size = 700\n",
    "x_train = x_vec[:-train_size]\n",
    "x_test = x_vec[-train_size:]\n",
    "y_train = y_vec[:-train_size]\n",
    "y_test = y_vec[-train_size:]\n",
    "print(len(x_train))\n",
    "print(len(x_test))"
   ]
  },
  {
   "cell_type": "code",
   "execution_count": 189,
   "metadata": {},
   "outputs": [
    {
     "data": {
      "text/plain": [
       "LinearRegression()"
      ]
     },
     "execution_count": 189,
     "metadata": {},
     "output_type": "execute_result"
    }
   ],
   "source": [
    "regr_train = LinearRegression()\n",
    "regr_train.fit(x_train, y_train)"
   ]
  },
  {
   "cell_type": "code",
   "execution_count": 200,
   "metadata": {},
   "outputs": [
    {
     "data": {
      "image/png": "[encoded data removed]",
      "text/plain": [
       "<Figure size 432x288 with 1 Axes>"
      ]
     },
     "metadata": {
      "needs_background": "light"
     },
     "output_type": "display_data"
    }
   ],
   "source": [
    "y_prediction = regr_train.predict(x_test)\n",
    "plt.scatter(x_train, y_train, color='black')\n",
    "plt.scatter(x_test, y_test, color='black')\n",
    "\n",
    "plt.plot(x_test, y_prediction, color='blue', linewidth=2)\n",
    "plt.show()"
   ]
  },
  {
   "cell_type": "code",
   "execution_count": 201,
   "metadata": {},
   "outputs": [],
   "source": [
    "from sklearn.metrics import mean_squared_error, r2_score"
   ]
  },
  {
   "cell_type": "code",
   "execution_count": 192,
   "metadata": {},
   "outputs": [
    {
     "data": {
      "text/plain": [
       "0.0011570551109044702"
      ]
     },
     "execution_count": 192,
     "metadata": {},
     "output_type": "execute_result"
    }
   ],
   "source": [
    "r2_test = r2_score(y_test, y_prediction)\n",
    "r2_test"
   ]
  },
  {
   "cell_type": "code",
   "execution_count": 193,
   "metadata": {},
   "outputs": [
    {
     "data": {
      "text/plain": [
       "array([0.31170914])"
      ]
     },
     "execution_count": 193,
     "metadata": {},
     "output_type": "execute_result"
    }
   ],
   "source": [
    "regr_train.coef_"
   ]
  },
  {
   "cell_type": "code",
   "execution_count": 194,
   "metadata": {},
   "outputs": [
    {
     "data": {
      "text/plain": [
       "41.12072056030831"
      ]
     },
     "execution_count": 194,
     "metadata": {},
     "output_type": "execute_result"
    }
   ],
   "source": [
    "regr_train.intercept_"
   ]
  },
  {
   "cell_type": "code",
   "execution_count": 195,
   "metadata": {},
   "outputs": [],
   "source": [
    "def equation_form(elem):\n",
    "    return regr_train.intercept_ + elem * regr_train.coef_[0]"
   ]
  },
  {
   "cell_type": "code",
   "execution_count": 196,
   "metadata": {},
   "outputs": [],
   "source": [
    "table_map = {\n",
    "    'y_value': [y for y in y_test],\n",
    "    'x_value': [x for x in x_test],\n",
    "    'result_equation': [equation_form(elem[0]) for elem in x_test]\n",
    "}"
   ]
  },
  {
   "cell_type": "code",
   "execution_count": 197,
   "metadata": {},
   "outputs": [],
   "source": [
    "compare_table = pd.DataFrame(table_map)"
   ]
  },
  {
   "cell_type": "code",
   "execution_count": 198,
   "metadata": {},
   "outputs": [
    {
     "data": {
      "text/html": [
       "<div>\n",
       "<style scoped>\n",
       "    .dataframe tbody tr th:only-of-type {\n",
       "        vertical-align: middle;\n",
       "    }\n",
       "\n",
       "    .dataframe tbody tr th {\n",
       "        vertical-align: top;\n",
       "    }\n",
       "\n",
       "    .dataframe thead th {\n",
       "        text-align: right;\n",
       "    }\n",
       "</style>\n",
       "<table border=\"1\" class=\"dataframe\">\n",
       "  <thead>\n",
       "    <tr style=\"text-align: right;\">\n",
       "      <th></th>\n",
       "      <th>y_value</th>\n",
       "      <th>x_value</th>\n",
       "      <th>result_equation</th>\n",
       "    </tr>\n",
       "  </thead>\n",
       "  <tbody>\n",
       "    <tr>\n",
       "      <th>555</th>\n",
       "      <td>40.0</td>\n",
       "      <td>[0]</td>\n",
       "      <td>41.120721</td>\n",
       "    </tr>\n",
       "    <tr>\n",
       "      <th>144</th>\n",
       "      <td>34.0</td>\n",
       "      <td>[0]</td>\n",
       "      <td>41.120721</td>\n",
       "    </tr>\n",
       "    <tr>\n",
       "      <th>213</th>\n",
       "      <td>57.0</td>\n",
       "      <td>[0]</td>\n",
       "      <td>41.120721</td>\n",
       "    </tr>\n",
       "    <tr>\n",
       "      <th>130</th>\n",
       "      <td>66.0</td>\n",
       "      <td>[0]</td>\n",
       "      <td>41.120721</td>\n",
       "    </tr>\n",
       "    <tr>\n",
       "      <th>495</th>\n",
       "      <td>24.0</td>\n",
       "      <td>[0]</td>\n",
       "      <td>41.120721</td>\n",
       "    </tr>\n",
       "    <tr>\n",
       "      <th>...</th>\n",
       "      <td>...</td>\n",
       "      <td>...</td>\n",
       "      <td>...</td>\n",
       "    </tr>\n",
       "    <tr>\n",
       "      <th>279</th>\n",
       "      <td>30.0</td>\n",
       "      <td>[6]</td>\n",
       "      <td>42.990975</td>\n",
       "    </tr>\n",
       "    <tr>\n",
       "      <th>382</th>\n",
       "      <td>38.0</td>\n",
       "      <td>[6]</td>\n",
       "      <td>42.990975</td>\n",
       "    </tr>\n",
       "    <tr>\n",
       "      <th>529</th>\n",
       "      <td>39.0</td>\n",
       "      <td>[6]</td>\n",
       "      <td>42.990975</td>\n",
       "    </tr>\n",
       "    <tr>\n",
       "      <th>639</th>\n",
       "      <td>39.0</td>\n",
       "      <td>[7]</td>\n",
       "      <td>43.302685</td>\n",
       "    </tr>\n",
       "    <tr>\n",
       "      <th>545</th>\n",
       "      <td>42.0</td>\n",
       "      <td>[7]</td>\n",
       "      <td>43.302685</td>\n",
       "    </tr>\n",
       "  </tbody>\n",
       "</table>\n",
       "<p>700 rows × 3 columns</p>\n",
       "</div>"
      ],
      "text/plain": [
       "     y_value x_value  result_equation\n",
       "555     40.0     [0]        41.120721\n",
       "144     34.0     [0]        41.120721\n",
       "213     57.0     [0]        41.120721\n",
       "130     66.0     [0]        41.120721\n",
       "495     24.0     [0]        41.120721\n",
       "..       ...     ...              ...\n",
       "279     30.0     [6]        42.990975\n",
       "382     38.0     [6]        42.990975\n",
       "529     39.0     [6]        42.990975\n",
       "639     39.0     [7]        43.302685\n",
       "545     42.0     [7]        43.302685\n",
       "\n",
       "[700 rows x 3 columns]"
      ]
     },
     "execution_count": 198,
     "metadata": {},
     "output_type": "execute_result"
    }
   ],
   "source": [
    "compare_table.sort_values(by='result_equation')"
   ]
  },
  {
   "cell_type": "code",
   "execution_count": 210,
   "metadata": {},
   "outputs": [
    {
     "data": {
      "text/html": [
       "<div>\n",
       "<style scoped>\n",
       "    .dataframe tbody tr th:only-of-type {\n",
       "        vertical-align: middle;\n",
       "    }\n",
       "\n",
       "    .dataframe tbody tr th {\n",
       "        vertical-align: top;\n",
       "    }\n",
       "\n",
       "    .dataframe thead th {\n",
       "        text-align: right;\n",
       "    }\n",
       "</style>\n",
       "<table border=\"1\" class=\"dataframe\">\n",
       "  <thead>\n",
       "    <tr style=\"text-align: right;\">\n",
       "      <th></th>\n",
       "      <th>Date</th>\n",
       "      <th>Race</th>\n",
       "      <th>Sex</th>\n",
       "      <th>AnyOpioid</th>\n",
       "      <th>COD</th>\n",
       "    </tr>\n",
       "  </thead>\n",
       "  <tbody>\n",
       "    <tr>\n",
       "      <th>10</th>\n",
       "      <td>2012-08-23 00:00:00</td>\n",
       "      <td>Hispanic, White</td>\n",
       "      <td>Female</td>\n",
       "      <td>N</td>\n",
       "      <td>Multiple Drug Toxicity</td>\n",
       "    </tr>\n",
       "    <tr>\n",
       "      <th>11</th>\n",
       "      <td>2015-07-05 00:00:00</td>\n",
       "      <td>White</td>\n",
       "      <td>Female</td>\n",
       "      <td>Y</td>\n",
       "      <td>Acute intoxication from the combined effects o...</td>\n",
       "    </tr>\n",
       "    <tr>\n",
       "      <th>12</th>\n",
       "      <td>2015-05-14 00:00:00</td>\n",
       "      <td>White</td>\n",
       "      <td>Male</td>\n",
       "      <td>Y</td>\n",
       "      <td>Heroin Intoxication</td>\n",
       "    </tr>\n",
       "    <tr>\n",
       "      <th>13</th>\n",
       "      <td>2016-01-13 00:00:00</td>\n",
       "      <td>Black</td>\n",
       "      <td>Male</td>\n",
       "      <td>Y</td>\n",
       "      <td>Acute Heroin Intoxication in a Person Taking C...</td>\n",
       "    </tr>\n",
       "    <tr>\n",
       "      <th>14</th>\n",
       "      <td>2013-08-19 00:00:00</td>\n",
       "      <td>White</td>\n",
       "      <td>Male</td>\n",
       "      <td>N</td>\n",
       "      <td>Methadone Intoxication</td>\n",
       "    </tr>\n",
       "    <tr>\n",
       "      <th>15</th>\n",
       "      <td>2014-01-29 00:00:00</td>\n",
       "      <td>White</td>\n",
       "      <td>Female</td>\n",
       "      <td>N</td>\n",
       "      <td>Acute intoxication due to the combined effects...</td>\n",
       "    </tr>\n",
       "    <tr>\n",
       "      <th>16</th>\n",
       "      <td>2012-03-02 00:00:00</td>\n",
       "      <td>White</td>\n",
       "      <td>Male</td>\n",
       "      <td>N</td>\n",
       "      <td>Ethanol and Oxymorphone Toxicity</td>\n",
       "    </tr>\n",
       "    <tr>\n",
       "      <th>17</th>\n",
       "      <td>2016-01-30 00:00:00</td>\n",
       "      <td>White</td>\n",
       "      <td>Male</td>\n",
       "      <td>Y</td>\n",
       "      <td>Acute Heroin Intoxication While Using Alcohol,...</td>\n",
       "    </tr>\n",
       "    <tr>\n",
       "      <th>18</th>\n",
       "      <td>2016-12-20 00:00:00</td>\n",
       "      <td>White</td>\n",
       "      <td>Male</td>\n",
       "      <td>Y</td>\n",
       "      <td>Acute Intoxication due to the Combined Effects...</td>\n",
       "    </tr>\n",
       "    <tr>\n",
       "      <th>19</th>\n",
       "      <td>2014-11-14 00:00:00</td>\n",
       "      <td>White</td>\n",
       "      <td>Male</td>\n",
       "      <td>N</td>\n",
       "      <td>Acute intoxication due to the combined effects...</td>\n",
       "    </tr>\n",
       "    <tr>\n",
       "      <th>20</th>\n",
       "      <td>2015-06-02 00:00:00</td>\n",
       "      <td>White</td>\n",
       "      <td>Female</td>\n",
       "      <td>Y</td>\n",
       "      <td>Intoxication due to the Combined Effects of Me...</td>\n",
       "    </tr>\n",
       "  </tbody>\n",
       "</table>\n",
       "</div>"
      ],
      "text/plain": [
       "                   Date             Race     Sex AnyOpioid  \\\n",
       "10  2012-08-23 00:00:00  Hispanic, White  Female         N   \n",
       "11  2015-07-05 00:00:00            White  Female         Y   \n",
       "12  2015-05-14 00:00:00            White    Male         Y   \n",
       "13  2016-01-13 00:00:00            Black    Male         Y   \n",
       "14  2013-08-19 00:00:00            White    Male         N   \n",
       "15  2014-01-29 00:00:00            White  Female         N   \n",
       "16  2012-03-02 00:00:00            White    Male         N   \n",
       "17  2016-01-30 00:00:00            White    Male         Y   \n",
       "18  2016-12-20 00:00:00            White    Male         Y   \n",
       "19  2014-11-14 00:00:00            White    Male         N   \n",
       "20  2015-06-02 00:00:00            White  Female         Y   \n",
       "\n",
       "                                                  COD  \n",
       "10                             Multiple Drug Toxicity  \n",
       "11  Acute intoxication from the combined effects o...  \n",
       "12                                Heroin Intoxication  \n",
       "13  Acute Heroin Intoxication in a Person Taking C...  \n",
       "14                             Methadone Intoxication  \n",
       "15  Acute intoxication due to the combined effects...  \n",
       "16                   Ethanol and Oxymorphone Toxicity  \n",
       "17  Acute Heroin Intoxication While Using Alcohol,...  \n",
       "18  Acute Intoxication due to the Combined Effects...  \n",
       "19  Acute intoxication due to the combined effects...  \n",
       "20  Intoxication due to the Combined Effects of Me...  "
      ]
     },
     "execution_count": 210,
     "metadata": {},
     "output_type": "execute_result"
    }
   ],
   "source": [
    "lst =  df[10:21]\n",
    "lst[['Date', 'Race', 'Sex', 'AnyOpioid', 'COD']]"
   ]
  },
  {
   "cell_type": "code",
   "execution_count": 221,
   "metadata": {},
   "outputs": [
    {
     "name": "stdout",
     "output_type": "stream",
     "text": [
      "Index(['Cocaine'], dtype='object')\n",
      "Index(['Methadone', 'AnyOpioid'], dtype='object')\n",
      "Index(['AnyOpioid'], dtype='object')\n",
      "Index(['Benzodiazepine', 'Amphet', 'AnyOpioid'], dtype='object')\n",
      "Index(['Methadone'], dtype='object')\n",
      "Index(['Benzodiazepine'], dtype='object')\n",
      "Index(['Oxymorphone', 'Ethanol'], dtype='object')\n",
      "Index(['Ethanol', 'AnyOpioid'], dtype='object')\n",
      "Index(['Fentanyl', 'Benzodiazepine', 'AnyOpioid'], dtype='object')\n",
      "Index(['Ethanol'], dtype='object')\n",
      "Index(['Methadone', 'AnyOpioid'], dtype='object')\n"
     ]
    }
   ],
   "source": [
    "for index in range(len(lst)):\n",
    "    row = lst.iloc[[index]][['Date', 'Race', 'Sex', 'Cocaine', 'Fentanyl', 'FentanylAnalogue', 'Oxycodone',\n",
    "       'Oxymorphone', 'Ethanol', 'Hydrocodone', 'Benzodiazepine', 'Methadone',\n",
    "       'Amphet', 'Tramad', 'Morphine_NotHeroin', 'Hydromorphone', 'Other',\n",
    "       'OpiateNOS', 'AnyOpioid', 'COD']]\n",
    "    print(row.columns[\n",
    "        (row == 'Y').any(axis=0)\n",
    "    ])\n",
    "    \n"
   ]
  },
  {
   "cell_type": "code",
   "execution_count": 247,
   "metadata": {},
   "outputs": [
    {
     "name": "stdout",
     "output_type": "stream",
     "text": [
      "\"date\": \"2012-08-23 00:00:00\"\", \"race\": \"Hispanic, White\", \"sex\": \"Female\", \"any_opioid\": true\n",
      "\"date\": \"2015-07-05 00:00:00\"\", \"race\": \"White\", \"sex\": \"Female\", \"any_opioid\": true\n",
      "\"date\": \"2015-05-14 00:00:00\"\", \"race\": \"White\", \"sex\": \"Male\", \"any_opioid\": true\n",
      "\"date\": \"2016-01-13 00:00:00\"\", \"race\": \"Black\", \"sex\": \"Male\", \"any_opioid\": true\n",
      "\"date\": \"2013-08-19 00:00:00\"\", \"race\": \"White\", \"sex\": \"Male\", \"any_opioid\": true\n",
      "\"date\": \"2014-01-29 00:00:00\"\", \"race\": \"White\", \"sex\": \"Female\", \"any_opioid\": true\n",
      "\"date\": \"2012-03-02 00:00:00\"\", \"race\": \"White\", \"sex\": \"Male\", \"any_opioid\": true\n",
      "\"date\": \"2016-01-30 00:00:00\"\", \"race\": \"White\", \"sex\": \"Male\", \"any_opioid\": true\n",
      "\"date\": \"2016-12-20 00:00:00\"\", \"race\": \"White\", \"sex\": \"Male\", \"any_opioid\": true\n",
      "\"date\": \"2014-11-14 00:00:00\"\", \"race\": \"White\", \"sex\": \"Male\", \"any_opioid\": true\n",
      "\"date\": \"2015-06-02 00:00:00\"\", \"race\": \"White\", \"sex\": \"Female\", \"any_opioid\": true\n"
     ]
    }
   ],
   "source": [
    "for index in range(len(lst)):\n",
    "    row = lst.iloc[[index]][['Date', 'Race', 'Sex','AnyOpioid']]\n",
    "    print(f'\"date\": \"{row[\"Date\"].values.astype(str)[0]}\"\", \"race\": \"{row[\"Race\"].values[0]}\", \"sex\": \"{row[\"Sex\"].values[0]}\", \"any_opioid\": true')"
   ]
  },
  {
   "cell_type": "code",
   "execution_count": null,
   "metadata": {},
   "outputs": [],
   "source": []
  }
 ],
 "metadata": {
  "kernelspec": {
   "display_name": "Python 3",
   "language": "python",
   "name": "python3"
  },
  "language_info": {
   "codemirror_mode": {
    "name": "ipython",
    "version": 3
   },
   "file_extension": ".py",
   "mimetype": "text/x-python",
   "name": "python",
   "nbconvert_exporter": "python",
   "pygments_lexer": "ipython3",
   "version": "3.8.3"
  }
 },
 "nbformat": 4,
 "nbformat_minor": 4
}
